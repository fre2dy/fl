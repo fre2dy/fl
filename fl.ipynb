{
 "metadata": {
  "name": "fl.ipynb"
 },
 "nbformat": 3,
 "nbformat_minor": 0,
 "worksheets": [
  {
   "cells": [
    {
     "cell_type": "code",
     "collapsed": false,
     "input": [
      "sys.path.append ('C:\\\\Program Files (x86)\\\\ArcGIS\\Desktop10.2\\\\bin')\n",
      "sys.path.append ('C:\\\\Program Files (x86)\\\\ArcGIS\\Desktop10.2\\\\arcpy')\n",
      "sys.path.append ('C:\\\\Program Files (x86)\\\\ArcGIS\\Desktop10.2\\\\ArcToolbox\\\\Scripts')\n",
      "import arcpy\n",
      "\n",
      "arcpy.env.workspace = \"H:\\\\ArcPyLab\\\\saep_bg10\""
     ],
     "language": "python",
     "metadata": {},
     "outputs": [],
     "prompt_number": 1
    },
    {
     "cell_type": "code",
     "collapsed": false,
     "input": [
      "censusblock = \"saep_bg10.shp\"\n"
     ],
     "language": "python",
     "metadata": {},
     "outputs": [],
     "prompt_number": 2
    },
    {
     "cell_type": "code",
     "collapsed": false,
     "input": [],
     "language": "python",
     "metadata": {},
     "outputs": []
    }
   ],
   "metadata": {}
  }
 ]
}